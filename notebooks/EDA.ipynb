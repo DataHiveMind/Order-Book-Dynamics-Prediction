{
 "cells": [
  {
   "cell_type": "code",
   "execution_count": null,
   "id": "7f8f7c43",
   "metadata": {
    "vscode": {
     "languageId": "plaintext"
    }
   },
   "outputs": [],
   "source": [
    "# Example content\n",
    "import pandas as pd\n",
    "import matplotlib.pyplot as plt\n",
    "import seaborn as sns\n",
    "\n",
    "# Load dataset\n",
    "data = pd.read_csv(\"data/processed/data.csv\")\n",
    "\n",
    "# Quick summary\n",
    "print(data.describe())\n",
    "\n",
    "# Histogram of prices\n",
    "sns.histplot(data['price'], kde=True)\n",
    "plt.title(\"Price Distribution\")\n",
    "plt.show()\n"
   ]
  }
 ],
 "metadata": {
  "language_info": {
   "name": "python"
  }
 },
 "nbformat": 4,
 "nbformat_minor": 5
}
